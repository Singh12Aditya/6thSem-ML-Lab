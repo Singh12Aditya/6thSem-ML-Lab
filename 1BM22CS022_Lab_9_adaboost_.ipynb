{
  "nbformat": 4,
  "nbformat_minor": 0,
  "metadata": {
    "colab": {
      "provenance": []
    },
    "kernelspec": {
      "name": "python3",
      "display_name": "Python 3"
    },
    "language_info": {
      "name": "python"
    }
  },
  "cells": [
    {
      "cell_type": "code",
      "execution_count": null,
      "metadata": {
        "colab": {
          "base_uri": "https://localhost:8080/"
        },
        "id": "z1M_mYRyv1EG",
        "outputId": "3aa5d5f4-6a05-4086-8086-704fcc08faca"
      },
      "outputs": [
        {
          "output_type": "stream",
          "name": "stdout",
          "text": [
            "Accuracy Score: 0.8327362063670796\n",
            "Confusion Matrix:\n",
            " [[7003  411]\n",
            " [1223 1132]]\n"
          ]
        }
      ],
      "source": [
        "import pandas as pd\n",
        "from sklearn.model_selection import train_test_split\n",
        "from sklearn.ensemble import AdaBoostClassifier\n",
        "from sklearn.preprocessing import LabelEncoder\n",
        "from sklearn.impute import SimpleImputer\n",
        "from sklearn.metrics import accuracy_score, confusion_matrix\n",
        "\n",
        "\n",
        "df = pd.read_csv('income.csv')\n",
        "\n",
        "\n",
        "X_raw = df.iloc[:, :-1]\n",
        "y_raw = df.iloc[:, -1]\n",
        "\n",
        "\n",
        "X_encoded = pd.get_dummies(X_raw)\n",
        "\n",
        "if y_raw.dtype == 'object':\n",
        "    y_encoded = LabelEncoder().fit_transform(y_raw)\n",
        "else:\n",
        "    y_encoded = y_raw\n",
        "\n",
        "\n",
        "imputer = SimpleImputer(strategy='most_frequent')\n",
        "X_imputed = pd.DataFrame(imputer.fit_transform(X_encoded), columns=X_encoded.columns)\n",
        "\n",
        "X_train, X_test, y_train, y_test = train_test_split(X_imputed, y_encoded, test_size=0.2, random_state=42)\n",
        "\n",
        "\n",
        "model = AdaBoostClassifier(random_state=42)\n",
        "model.fit(X_train, y_train)\n",
        "\n",
        "\n",
        "y_pred = model.predict(X_test)\n",
        "\n",
        "accuracy = accuracy_score(y_test, y_pred)\n",
        "conf_matrix = confusion_matrix(y_test, y_pred)\n",
        "\n",
        "\n",
        "print(\"Accuracy Score:\", accuracy)\n",
        "print(\"Confusion Matrix:\\n\", conf_matrix)\n"
      ]
    },
    {
      "cell_type": "code",
      "source": [
        "import numpy as np\n",
        "import pandas as pd\n",
        "from sklearn.datasets import load_iris\n",
        "from sklearn.model_selection import train_test_split\n",
        "from sklearn.ensemble import AdaBoostClassifier\n",
        "from sklearn.tree import DecisionTreeClassifier\n",
        "from sklearn.linear_model import LogisticRegression\n",
        "from sklearn.metrics import accuracy_score\n",
        "\n",
        "\n",
        "iris = load_iris()\n",
        "X = iris.data\n",
        "y = iris.target\n",
        "\n",
        "\n",
        "X_train, X_test, y_train, y_test = train_test_split(X, y, test_size=0.2, random_state=42)\n",
        "\n",
        "print(\"----- AdaBoost with Decision Tree -----\")\n",
        "for n in [10, 50, 100]:\n",
        "    for lr in [0.1, 0.5, 1.0]:\n",
        "        model = AdaBoostClassifier(\n",
        "            estimator=DecisionTreeClassifier(max_depth=1),\n",
        "            n_estimators=n,\n",
        "            learning_rate=lr,\n",
        "            random_state=42\n",
        "        )\n",
        "        model.fit(X_train, y_train)\n",
        "        y_pred = model.predict(X_test)\n",
        "        score = accuracy_score(y_test, y_pred)\n",
        "        print(f\"n_estimators={n}, learning_rate={lr} => Accuracy: {score:.4f}\")\n",
        "\n",
        "print(\"\\n----- AdaBoost with Logistic Regression -----\")\n",
        "for n in [10, 50, 100]:\n",
        "    for lr in [0.1, 0.5, 1.0]:\n",
        "        model = AdaBoostClassifier(\n",
        "            estimator=LogisticRegression(max_iter=1000),\n",
        "            n_estimators=n,\n",
        "            learning_rate=lr,\n",
        "            random_state=42\n",
        "        )\n",
        "        model.fit(X_train, y_train)\n",
        "        y_pred = model.predict(X_test)\n",
        "        score = accuracy_score(y_test, y_pred)\n",
        "        print(f\"n_estimators={n}, learning_rate={lr} => Accuracy: {score:.4f}\")\n"
      ],
      "metadata": {
        "colab": {
          "base_uri": "https://localhost:8080/"
        },
        "id": "cP05ulUQwLhx",
        "outputId": "8d1c38b6-6b00-4363-d7ba-4b9f82879a45"
      },
      "execution_count": null,
      "outputs": [
        {
          "output_type": "stream",
          "name": "stdout",
          "text": [
            "----- AdaBoost with Decision Tree -----\n",
            "n_estimators=10, learning_rate=0.1 => Accuracy: 0.9667\n",
            "n_estimators=10, learning_rate=0.5 => Accuracy: 1.0000\n",
            "n_estimators=10, learning_rate=1.0 => Accuracy: 1.0000\n",
            "n_estimators=50, learning_rate=0.1 => Accuracy: 1.0000\n",
            "n_estimators=50, learning_rate=0.5 => Accuracy: 0.9667\n",
            "n_estimators=50, learning_rate=1.0 => Accuracy: 0.9333\n",
            "n_estimators=100, learning_rate=0.1 => Accuracy: 1.0000\n",
            "n_estimators=100, learning_rate=0.5 => Accuracy: 1.0000\n",
            "n_estimators=100, learning_rate=1.0 => Accuracy: 0.9333\n",
            "\n",
            "----- AdaBoost with Logistic Regression -----\n",
            "n_estimators=10, learning_rate=0.1 => Accuracy: 1.0000\n",
            "n_estimators=10, learning_rate=0.5 => Accuracy: 0.9667\n",
            "n_estimators=10, learning_rate=1.0 => Accuracy: 0.9333\n",
            "n_estimators=50, learning_rate=0.1 => Accuracy: 1.0000\n",
            "n_estimators=50, learning_rate=0.5 => Accuracy: 1.0000\n",
            "n_estimators=50, learning_rate=1.0 => Accuracy: 0.9333\n",
            "n_estimators=100, learning_rate=0.1 => Accuracy: 1.0000\n",
            "n_estimators=100, learning_rate=0.5 => Accuracy: 1.0000\n",
            "n_estimators=100, learning_rate=1.0 => Accuracy: 0.9333\n"
          ]
        }
      ]
    }
  ]
}