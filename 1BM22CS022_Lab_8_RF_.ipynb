{
  "nbformat": 4,
  "nbformat_minor": 0,
  "metadata": {
    "colab": {
      "provenance": []
    },
    "kernelspec": {
      "name": "python3",
      "display_name": "Python 3"
    },
    "language_info": {
      "name": "python"
    }
  },
  "cells": [
    {
      "cell_type": "code",
      "execution_count": null,
      "metadata": {
        "colab": {
          "base_uri": "https://localhost:8080/"
        },
        "id": "7W1c0AtgoA2N",
        "outputId": "71a2595e-5d60-47c2-9bda-aa7f3695d32d"
      },
      "outputs": [
        {
          "output_type": "stream",
          "name": "stdout",
          "text": [
            "Accuracy Score: 0.6927374301675978\n",
            "Confusion Matrix:\n",
            " [[  3   0  40]\n",
            " [  0   2  15]\n",
            " [  0   0 119]]\n"
          ]
        }
      ],
      "source": [
        "import pandas as pd\n",
        "from sklearn.model_selection import train_test_split\n",
        "from sklearn.ensemble import RandomForestClassifier\n",
        "from sklearn.preprocessing import LabelEncoder\n",
        "from sklearn.impute import SimpleImputer\n",
        "from sklearn.metrics import accuracy_score, confusion_matrix\n",
        "\n",
        "\n",
        "df = pd.read_csv('train.csv')\n",
        "\n",
        "X_raw = df.iloc[:, :-1]\n",
        "y_raw = df.iloc[:, -1]\n",
        "\n",
        "\n",
        "X_encoded = pd.get_dummies(X_raw)\n",
        "\n",
        "\n",
        "if y_raw.dtype == 'object':\n",
        "    y_encoded = LabelEncoder().fit_transform(y_raw)\n",
        "else:\n",
        "    y_encoded = y_raw\n",
        "\n",
        "\n",
        "imputer = SimpleImputer(strategy='most_frequent')\n",
        "X_imputed = pd.DataFrame(imputer.fit_transform(X_encoded), columns=X_encoded.columns)\n",
        "\n",
        "\n",
        "X_train, X_test, y_train, y_test = train_test_split(X_imputed, y_encoded, test_size=0.2, random_state=42)\n",
        "\n",
        "r\n",
        "model = RandomForestClassifier(random_state=42)\n",
        "model.fit(X_train, y_train)\n",
        "\n",
        "\n",
        "y_pred = model.predict(X_test)\n",
        "accuracy = accuracy_score(y_test, y_pred)\n",
        "conf_matrix = confusion_matrix(y_test, y_pred)\n",
        "\n",
        "\n",
        "print(\"Accuracy Score:\", accuracy)\n",
        "print(\"Confusion Matrix:\\n\", conf_matrix)\n"
      ]
    },
    {
      "cell_type": "code",
      "source": [
        "import pandas as pd\n",
        "from sklearn.model_selection import train_test_split\n",
        "from sklearn.ensemble import RandomForestClassifier\n",
        "from sklearn.metrics import accuracy_score\n",
        "\n",
        "\n",
        "iris_df = pd.read_csv('iris.csv')\n",
        "\n",
        "\n",
        "X = iris_df.iloc[:, :-1]\n",
        "y = iris_df.iloc[:, -1]\n",
        "\n",
        "\n",
        "X_train, X_test, y_train, y_test = train_test_split(X, y, test_size=0.2, random_state=42)\n",
        "\n",
        "\n",
        "model_default = RandomForestClassifier(n_estimators=10, random_state=42)\n",
        "model_default.fit(X_train, y_train)\n",
        "y_pred_default = model_default.predict(X_test)\n",
        "default_score = accuracy_score(y_test, y_pred_default)\n",
        "\n",
        "print(f\"Default score with n_estimators=10: {default_score:.4f}\")\n",
        "\n",
        "\n",
        "best_score = 0\n",
        "best_n = 10\n",
        "for n in range(5, 105, 5):\n",
        "    model = RandomForestClassifier(n_estimators=n, random_state=42)\n",
        "    model.fit(X_train, y_train)\n",
        "    y_pred = model.predict(X_test)\n",
        "    score = accuracy_score(y_test, y_pred)\n",
        "    print(f\"n_estimators={n}, Accuracy={score:.4f}\")\n",
        "    if score > best_score:\n",
        "        best_score = score\n",
        "        best_n = n\n",
        "\n",
        "print(f\"\\nBest score: {best_score:.4f} with n_estimators={best_n}\")\n"
      ],
      "metadata": {
        "colab": {
          "base_uri": "https://localhost:8080/"
        },
        "id": "8UcWVKakpv9C",
        "outputId": "a24d28c3-6284-497b-97ca-2703ab6dbd00"
      },
      "execution_count": null,
      "outputs": [
        {
          "output_type": "stream",
          "name": "stdout",
          "text": [
            "Default score with n_estimators=10: 1.0000\n",
            "n_estimators=5, Accuracy=0.9667\n",
            "n_estimators=10, Accuracy=1.0000\n",
            "n_estimators=15, Accuracy=1.0000\n",
            "n_estimators=20, Accuracy=1.0000\n",
            "n_estimators=25, Accuracy=1.0000\n",
            "n_estimators=30, Accuracy=1.0000\n",
            "n_estimators=35, Accuracy=1.0000\n",
            "n_estimators=40, Accuracy=1.0000\n",
            "n_estimators=45, Accuracy=1.0000\n",
            "n_estimators=50, Accuracy=1.0000\n",
            "n_estimators=55, Accuracy=1.0000\n",
            "n_estimators=60, Accuracy=1.0000\n",
            "n_estimators=65, Accuracy=1.0000\n",
            "n_estimators=70, Accuracy=1.0000\n",
            "n_estimators=75, Accuracy=1.0000\n",
            "n_estimators=80, Accuracy=1.0000\n",
            "n_estimators=85, Accuracy=1.0000\n",
            "n_estimators=90, Accuracy=1.0000\n",
            "n_estimators=95, Accuracy=1.0000\n",
            "n_estimators=100, Accuracy=1.0000\n",
            "\n",
            "Best score: 1.0000 with n_estimators=10\n"
          ]
        }
      ]
    }
  ]
}